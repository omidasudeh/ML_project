{
 "cells": [
  {
   "cell_type": "code",
   "execution_count": 26,
   "metadata": {},
   "outputs": [],
   "source": [
    "import pandas as pd\n",
    "import numpy as np\n",
    "import math\n",
    "import copy as cp\n",
    "from sklearn import tree\n",
    "import matplotlib.pyplot as plt\n",
    "from sklearn.tree import DecisionTreeClassifier, DecisionTreeRegressor\n",
    "from sklearn.ensemble import RandomForestRegressor\n",
    "from sklearn.ensemble import GradientBoostingRegressor\n",
    "from sklearn.model_selection import train_test_split\n",
    "\n",
    "train_df = pd.read_csv(\"./data/train_final.csv\")\n",
    "m_train = len(train_df)\n",
    "test_df = pd.read_csv(\"./data/test_final.csv\")\n",
    "m_test = len(test_df)"
   ]
  },
  {
   "cell_type": "markdown",
   "metadata": {},
   "source": [
    "# preprocess the data\n",
    "- workclass, occupation, native.country has anomaly data '?'"
   ]
  },
  {
   "cell_type": "code",
   "execution_count": 21,
   "metadata": {},
   "outputs": [
    {
     "name": "stdout",
     "output_type": "stream",
     "text": [
      "preprocessing numerical attribute: age threashold: 37.0\n",
      "preprocessing numerical attribute: fnlwgt threashold: 177299.5\n",
      "preprocessing numerical attribute: education.num threashold: 10.0\n",
      "preprocessing numerical attribute: capital.gain threashold: 0.0\n",
      "preprocessing numerical attribute: capital.loss threashold: 0.0\n",
      "preprocessing numerical attribute: hours.per.week threashold: 40.0\n",
      "preprocessing numerical attribute: income>50K threashold: 0.0\n",
      "preprocessing numerical attribute: age threashold: 37.0\n",
      "preprocessing numerical attribute: fnlwgt threashold: 179266.5\n",
      "preprocessing numerical attribute: education.num threashold: 10.0\n",
      "preprocessing numerical attribute: capital.gain threashold: 0.0\n",
      "preprocessing numerical attribute: capital.loss threashold: 0.0\n",
      "preprocessing numerical attribute: hours.per.week threashold: 40.0\n"
     ]
    }
   ],
   "source": [
    "\n",
    "\n",
    "categorical_attrib_values = { \"workclass\":['Private', 'Self-emp-not-inc', 'Self-emp-inc', 'Federal-gov', 'Local-gov', 'State-gov', 'Without-pay', 'Never-worked'],\\\n",
    "                 \"education\":['Bachelors', 'Some-college', '11th', 'HS-grad', 'Prof-school', 'Assoc-acdm', 'Assoc-voc', '9th', '7th-8th', '12th', 'Masters', '1st-4th', '10th', 'Doctorate', '5th-6th', 'Preschool'],\\\n",
    "                 \"marital.status\":['Married-civ-spouse', 'Divorced', 'Never-married', 'Separated', 'Widowed', 'Married-spouse-absent', 'Married-AF-spouse'],\\\n",
    "                 \"occupation\":['Tech-support', 'Craft-repair', 'Other-service', 'Sales', 'Exec-managerial', 'Prof-specialty', 'Handlers-cleaners', 'Machine-op-inspct', 'Adm-clerical', 'Farming-fishing', 'Transport-moving', 'Priv-house-serv', 'Protective-serv', 'Armed-Forces'],\\\n",
    "                 \"relationship\":['Wife', 'Own-child', 'Husband', 'Not-in-family', 'Other-relative', 'Unmarried'],\\\n",
    "                 \"race\":['White', 'Asian-Pac-Islander', 'Amer-Indian-Eskimo', 'Other', 'Black'],\\\n",
    "                 \"sex\":['Female', 'Male'],\\\n",
    "                 \"native.country\": ['United-States', 'Cambodia', 'England', 'Puerto-Rico', 'Canada', 'Germany', 'Outlying-US(Guam-USVI-etc)', 'India', 'Japan', 'Greece', 'South', 'China', 'Cuba', 'Iran', 'Honduras', 'Philippines', 'Italy', 'Poland', 'Jamaica', 'Vietnam', 'Mexico', 'Portugal', 'Ireland', 'France', 'Dominican-Republic', 'Laos', 'Ecuador', 'Taiwan', 'Haiti', 'Columbia', 'Hungary', 'Guatemala', 'Nicaragua', 'Scotland', 'Thailand', 'Yugoslavia', 'El-Salvador', 'Trinadad&Tobago', 'Peru', 'Hong', 'Holand-Netherlands']\n",
    "                }\n",
    "def convert_numerical_to_binary(df):\n",
    "    for col_name in df.columns:\n",
    "        if col_name!= \"ID\" and col_name not in categorical_attrib_values:\n",
    "            df[col_name] = pd.to_numeric(df[col_name], errors='coerce')\n",
    "            threashold = df[col_name].median()\n",
    "            print(\"preprocessing numerical attribute:\", col_name, \"threashold:\", threashold)\n",
    "            df[col_name] = df[col_name].apply(lambda x: 0 if int(x) <= threashold else 1)\n",
    "\n",
    "train_df_processed = train_df\n",
    "convert_numerical_to_binary(train_df_processed)\n",
    "\n",
    "train_mode_country = train_df_processed[\"native.country\"].mode()[0]\n",
    "train_mode_workclass = train_df_processed[\"workclass\"].mode()[0]\n",
    "train_mode_occupation = train_df_processed[\"occupation\"].mode()[0]\n",
    "train_df_processed[\"native.country\"]= train_df_processed[\"native.country\"].replace(\"Holand-Netherlands\",train_mode_country, regex=True)\n",
    "train_df_processed[\"native.country\"] = train_df_processed[\"native.country\"].apply(lambda x: train_mode_country if x=='?' else x)\n",
    "train_df_processed[\"workclass\"] = train_df_processed[\"workclass\"].apply(lambda x: train_mode_workclass if x=='?' else x)\n",
    "train_df_processed[\"occupation\"] = train_df_processed[\"occupation\"].apply(lambda x: train_mode_occupation if x=='?' else x)\n",
    "\n",
    "\n",
    "test_df_processed = test_df\n",
    "convert_numerical_to_binary(test_df_processed)\n",
    "\n",
    "test_mode_country = test_df_processed[\"native.country\"].mode()[0]\n",
    "test_mode_workclass = test_df_processed[\"workclass\"].mode()[0]\n",
    "test_mode_occupation = test_df_processed[\"occupation\"].mode()[0]\n",
    "test_df_processed[\"native.country\"]= test_df_processed[\"native.country\"].replace(\"Holand-Netherlands\",test_mode_country, regex=True)\n",
    "test_df_processed[\"native.country\"] = test_df_processed[\"native.country\"].apply(lambda x: test_mode_country if x=='?' else x)\n",
    "test_df_processed[\"workclass\"] = test_df_processed[\"workclass\"].apply(lambda x: test_mode_workclass if x=='?' else x)\n",
    "test_df_processed[\"occupation\"] = test_df_processed[\"occupation\"].apply(lambda x: test_mode_occupation if x=='?' else x)"
   ]
  },
  {
   "cell_type": "markdown",
   "metadata": {},
   "source": [
    "# Fit a tree"
   ]
  },
  {
   "cell_type": "code",
   "execution_count": 22,
   "metadata": {},
   "outputs": [
    {
     "name": "stdout",
     "output_type": "stream",
     "text": [
      "train_accuracy 0.87748\n"
     ]
    }
   ],
   "source": [
    "features = list(train_df.columns[:14])\n",
    "y = train_df[\"income>50K\"]\n",
    "X = pd.get_dummies(train_df_processed[features],drop_first=True)\n",
    "dt = DecisionTreeClassifier(min_samples_split=20, random_state=99)\n",
    "dt.fit(X, y)\n",
    "preds = dt.predict(X)\n",
    "incorrect = np.count_nonzero(preds-y)\n",
    "print(\"train_accuracy\", 1 - incorrect/X.shape[0])"
   ]
  },
  {
   "cell_type": "markdown",
   "metadata": {},
   "source": [
    "# Prediction"
   ]
  },
  {
   "cell_type": "code",
   "execution_count": 23,
   "metadata": {},
   "outputs": [],
   "source": [
    "test_features = list(test_df.columns[1:])\n",
    "test_X = pd.get_dummies(test_df_processed[test_features],drop_first=True)\n",
    "test_df_processed[\"Prediction\"] = dt.predict(test_X)\n",
    "result = test_df_processed[[\"ID\",\"Prediction\"]]\n",
    "result.to_csv(\"sl-dt.csv\", index=False)"
   ]
  },
  {
   "cell_type": "markdown",
   "metadata": {},
   "source": [
    "# Regression Tree"
   ]
  },
  {
   "cell_type": "code",
   "execution_count": 24,
   "metadata": {},
   "outputs": [],
   "source": [
    "dtr = DecisionTreeRegressor() \n",
    "dtr.fit(X, y)\n",
    "test_df_processed[\"Prediction\"] = dtr.predict(test_X)\n",
    "result = test_df_processed[[\"ID\",\"Prediction\"]]\n",
    "result.to_csv(\"sl-dtr.csv\", index=False)"
   ]
  },
  {
   "cell_type": "markdown",
   "metadata": {},
   "source": [
    "# Random Forest"
   ]
  },
  {
   "cell_type": "code",
   "execution_count": 25,
   "metadata": {},
   "outputs": [],
   "source": [
    "regr = RandomForestRegressor(max_depth=2, random_state=0)\n",
    "regr.fit(X, y)\n",
    "test_df_processed[\"Prediction\"] = regr.predict(test_X)\n",
    "result = test_df_processed[[\"ID\",\"Prediction\"]]\n",
    "result.to_csv(\"sl-rf.csv\", index=False)"
   ]
  },
  {
   "cell_type": "markdown",
   "metadata": {},
   "source": [
    "# GradientBoosting"
   ]
  },
  {
   "cell_type": "code",
   "execution_count": 27,
   "metadata": {},
   "outputs": [],
   "source": [
    "reg = GradientBoostingRegressor(random_state=0)\n",
    "reg.fit(X, y)\n",
    "test_df_processed[\"Prediction\"] = reg.predict(test_X)\n",
    "result = test_df_processed[[\"ID\",\"Prediction\"]]\n",
    "result.to_csv(\"sl-eb.csv\", index=False)"
   ]
  },
  {
   "cell_type": "markdown",
   "metadata": {},
   "source": [
    "# Gradient boosting with cross validation"
   ]
  },
  {
   "cell_type": "code",
   "execution_count": null,
   "metadata": {},
   "outputs": [],
   "source": []
  }
 ],
 "metadata": {
  "kernelspec": {
   "display_name": "Python 3",
   "language": "python",
   "name": "python3"
  },
  "language_info": {
   "codemirror_mode": {
    "name": "ipython",
    "version": 3
   },
   "file_extension": ".py",
   "mimetype": "text/x-python",
   "name": "python",
   "nbconvert_exporter": "python",
   "pygments_lexer": "ipython3",
   "version": "3.9.6"
  }
 },
 "nbformat": 4,
 "nbformat_minor": 4
}
