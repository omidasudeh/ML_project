{
 "cells": [
  {
   "cell_type": "code",
   "execution_count": 1,
   "metadata": {},
   "outputs": [
    {
     "name": "stdout",
     "output_type": "stream",
     "text": [
      "* features:\n",
      "['age', 'workclass', 'fnlwgt', 'education', 'education.num', 'marital.status', 'occupation', 'relationship', 'race', 'sex', 'capital.gain', 'capital.loss', 'hours.per.week', 'native.country']\n"
     ]
    }
   ],
   "source": [
    "import pandas as pd\n",
    "import numpy as np\n",
    "import math\n",
    "import copy as cp\n",
    "from sklearn import tree\n",
    "import matplotlib.pyplot as plt\n",
    "from sklearn.tree import DecisionTreeClassifier, export_graphviz\n",
    "\n",
    "train_df = pd.read_csv(\"./data/train_final.csv\")\n",
    "m_train = len(train_df)\n",
    "test_df = pd.read_csv(\"./data/test_final.csv\")\n",
    "m_test = len(test_df)\n",
    "features = list(train_df.columns[:14])\n",
    "print(\"* features:\", features, sep=\"\\n\")"
   ]
  },
  {
   "cell_type": "markdown",
   "metadata": {},
   "source": [
    "# preprocess the data\n",
    "- workclass, occupation, native.country has anomaly data '?'"
   ]
  },
  {
   "cell_type": "code",
   "execution_count": 2,
   "metadata": {},
   "outputs": [
    {
     "name": "stdout",
     "output_type": "stream",
     "text": [
      "preprocessing numerical attribute: age threashold: 37.0\n",
      "preprocessing numerical attribute: fnlwgt threashold: 177299.5\n",
      "preprocessing numerical attribute: education.num threashold: 10.0\n",
      "preprocessing numerical attribute: capital.gain threashold: 0.0\n",
      "preprocessing numerical attribute: capital.loss threashold: 0.0\n",
      "preprocessing numerical attribute: hours.per.week threashold: 40.0\n",
      "preprocessing numerical attribute: income>50K threashold: 0.0\n",
      "preprocessing numerical attribute: ID threashold: 11921.5\n",
      "preprocessing numerical attribute: age threashold: 37.0\n",
      "preprocessing numerical attribute: fnlwgt threashold: 179266.5\n",
      "preprocessing numerical attribute: education.num threashold: 10.0\n",
      "preprocessing numerical attribute: capital.gain threashold: 0.0\n",
      "preprocessing numerical attribute: capital.loss threashold: 0.0\n",
      "preprocessing numerical attribute: hours.per.week threashold: 40.0\n"
     ]
    }
   ],
   "source": [
    "\n",
    "\n",
    "categorical_attrib_values = { \"workclass\":['Private', 'Self-emp-not-inc', 'Self-emp-inc', 'Federal-gov', 'Local-gov', 'State-gov', 'Without-pay', 'Never-worked'],\\\n",
    "                 \"education\":['Bachelors', 'Some-college', '11th', 'HS-grad', 'Prof-school', 'Assoc-acdm', 'Assoc-voc', '9th', '7th-8th', '12th', 'Masters', '1st-4th', '10th', 'Doctorate', '5th-6th', 'Preschool'],\\\n",
    "                 \"marital.status\":['Married-civ-spouse', 'Divorced', 'Never-married', 'Separated', 'Widowed', 'Married-spouse-absent', 'Married-AF-spouse'],\\\n",
    "                 \"occupation\":['Tech-support', 'Craft-repair', 'Other-service', 'Sales', 'Exec-managerial', 'Prof-specialty', 'Handlers-cleaners', 'Machine-op-inspct', 'Adm-clerical', 'Farming-fishing', 'Transport-moving', 'Priv-house-serv', 'Protective-serv', 'Armed-Forces'],\\\n",
    "                 \"relationship\":['Wife', 'Own-child', 'Husband', 'Not-in-family', 'Other-relative', 'Unmarried'],\\\n",
    "                 \"race\":['White', 'Asian-Pac-Islander', 'Amer-Indian-Eskimo', 'Other', 'Black'],\\\n",
    "                 \"sex\":['Female', 'Male'],\\\n",
    "                 \"native.country\": ['United-States', 'Cambodia', 'England', 'Puerto-Rico', 'Canada', 'Germany', 'Outlying-US(Guam-USVI-etc)', 'India', 'Japan', 'Greece', 'South', 'China', 'Cuba', 'Iran', 'Honduras', 'Philippines', 'Italy', 'Poland', 'Jamaica', 'Vietnam', 'Mexico', 'Portugal', 'Ireland', 'France', 'Dominican-Republic', 'Laos', 'Ecuador', 'Taiwan', 'Haiti', 'Columbia', 'Hungary', 'Guatemala', 'Nicaragua', 'Scotland', 'Thailand', 'Yugoslavia', 'El-Salvador', 'Trinadad&Tobago', 'Peru', 'Hong', 'Holand-Netherlands']\n",
    "                }\n",
    "def convert_numerical_to_binary(df):\n",
    "    for col_name in df.columns:\n",
    "        if col_name not in categorical_attrib_values:\n",
    "            df[col_name] = pd.to_numeric(df[col_name], errors='coerce')\n",
    "            threashold = df[col_name].median()\n",
    "            print(\"preprocessing numerical attribute:\", col_name, \"threashold:\", threashold)\n",
    "            df[col_name] = df[col_name].apply(lambda x: 0 if int(x) <= threashold else 1)\n",
    "\n",
    "######## convert the numerical to binary\n",
    "train_df_processed = train_df\n",
    "test_df_processed = test_df\n",
    "convert_numerical_to_binary(train_df_processed)\n",
    "convert_numerical_to_binary(test_df_processed)"
   ]
  },
  {
   "cell_type": "markdown",
   "metadata": {},
   "source": [
    "# fit a tree"
   ]
  },
  {
   "cell_type": "code",
   "execution_count": 3,
   "metadata": {},
   "outputs": [
    {
     "data": {
      "text/plain": [
       "DecisionTreeClassifier(min_samples_split=20, random_state=99)"
      ]
     },
     "execution_count": 3,
     "metadata": {},
     "output_type": "execute_result"
    }
   ],
   "source": [
    "y = train_df[\"income>50K\"]\n",
    "X = pd.get_dummies(train_df_processed[features],drop_first=True)\n",
    "dt = DecisionTreeClassifier(min_samples_split=20, random_state=99)\n",
    "dt.fit(X, y)"
   ]
  },
  {
   "cell_type": "code",
   "execution_count": 4,
   "metadata": {},
   "outputs": [
    {
     "name": "stdout",
     "output_type": "stream",
     "text": [
      "train_accuracy 0.87976\n"
     ]
    }
   ],
   "source": [
    "incorrect = np.count_nonzero(dt.predict(X)-y)\n",
    "print(\"train_accuracy\", 1 - incorrect/X.shape[0])"
   ]
  },
  {
   "cell_type": "code",
   "execution_count": 9,
   "metadata": {},
   "outputs": [],
   "source": [
    "X_test = pd.get_dummies(test_df_processed[features],drop_first=True)"
   ]
  },
  {
   "cell_type": "code",
   "execution_count": null,
   "metadata": {},
   "outputs": [],
   "source": []
  }
 ],
 "metadata": {
  "kernelspec": {
   "display_name": "Python 3",
   "language": "python",
   "name": "python3"
  },
  "language_info": {
   "codemirror_mode": {
    "name": "ipython",
    "version": 3
   },
   "file_extension": ".py",
   "mimetype": "text/x-python",
   "name": "python",
   "nbconvert_exporter": "python",
   "pygments_lexer": "ipython3",
   "version": "3.8.10"
  }
 },
 "nbformat": 4,
 "nbformat_minor": 4
}
